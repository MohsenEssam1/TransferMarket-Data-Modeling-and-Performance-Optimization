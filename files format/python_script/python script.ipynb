{
 "cells": [
  {
   "cell_type": "code",
   "execution_count": 8,
   "metadata": {},
   "outputs": [
    {
     "name": "stdout",
     "output_type": "stream",
     "text": [
      "Requirement already satisfied: pandas in c:\\users\\mohse\\anaconda3\\lib\\site-packages (2.0.3)\n",
      "Requirement already satisfied: pyarrow in c:\\users\\mohse\\anaconda3\\lib\\site-packages (17.0.0)\n",
      "Requirement already satisfied: fastavro in c:\\users\\mohse\\anaconda3\\lib\\site-packages (1.10.0)\n",
      "Requirement already satisfied: python-dateutil>=2.8.2 in c:\\users\\mohse\\anaconda3\\lib\\site-packages (from pandas) (2.9.0.post0)\n",
      "Requirement already satisfied: pytz>=2020.1 in c:\\users\\mohse\\anaconda3\\lib\\site-packages (from pandas) (2024.1)\n",
      "Requirement already satisfied: tzdata>=2022.1 in c:\\users\\mohse\\anaconda3\\lib\\site-packages (from pandas) (2023.3)\n",
      "Requirement already satisfied: numpy>=1.21.0 in c:\\users\\mohse\\anaconda3\\lib\\site-packages (from pandas) (1.24.3)\n",
      "Requirement already satisfied: six>=1.5 in c:\\users\\mohse\\anaconda3\\lib\\site-packages (from python-dateutil>=2.8.2->pandas) (1.16.0)\n",
      "Note: you may need to restart the kernel to use updated packages.\n"
     ]
    },
    {
     "name": "stderr",
     "output_type": "stream",
     "text": [
      "WARNING: Skipping c:\\Users\\mohse\\anaconda3\\Lib\\site-packages\\jupyterlab-3.6.3.dist-info due to invalid metadata entry 'name'\n",
      "WARNING: Skipping c:\\Users\\mohse\\anaconda3\\Lib\\site-packages\\jupyterlab_server-2.22.0.dist-info due to invalid metadata entry 'name'\n",
      "WARNING: Skipping c:\\Users\\mohse\\anaconda3\\Lib\\site-packages\\jupyter_server-2.5.0.dist-info due to invalid metadata entry 'name'\n",
      "WARNING: Skipping c:\\Users\\mohse\\anaconda3\\Lib\\site-packages\\nbconvert-6.5.4.dist-info due to invalid metadata entry 'name'\n",
      "WARNING: Skipping c:\\Users\\mohse\\anaconda3\\Lib\\site-packages\\notebook-6.5.4.dist-info due to invalid metadata entry 'name'\n",
      "WARNING: Skipping c:\\Users\\mohse\\anaconda3\\Lib\\site-packages\\panel-1.1.0.dist-info due to invalid metadata entry 'name'\n",
      "WARNING: Skipping c:\\Users\\mohse\\anaconda3\\Lib\\site-packages\\jupyterlab-3.6.3.dist-info due to invalid metadata entry 'name'\n",
      "WARNING: Skipping c:\\Users\\mohse\\anaconda3\\Lib\\site-packages\\jupyterlab_server-2.22.0.dist-info due to invalid metadata entry 'name'\n",
      "WARNING: Skipping c:\\Users\\mohse\\anaconda3\\Lib\\site-packages\\jupyter_server-2.5.0.dist-info due to invalid metadata entry 'name'\n",
      "WARNING: Skipping c:\\Users\\mohse\\anaconda3\\Lib\\site-packages\\nbconvert-6.5.4.dist-info due to invalid metadata entry 'name'\n",
      "WARNING: Skipping c:\\Users\\mohse\\anaconda3\\Lib\\site-packages\\notebook-6.5.4.dist-info due to invalid metadata entry 'name'\n",
      "WARNING: Skipping c:\\Users\\mohse\\anaconda3\\Lib\\site-packages\\panel-1.1.0.dist-info due to invalid metadata entry 'name'\n",
      "WARNING: Skipping c:\\Users\\mohse\\anaconda3\\Lib\\site-packages\\jupyterlab-3.6.3.dist-info due to invalid metadata entry 'name'\n",
      "WARNING: Skipping c:\\Users\\mohse\\anaconda3\\Lib\\site-packages\\jupyterlab_server-2.22.0.dist-info due to invalid metadata entry 'name'\n",
      "WARNING: Skipping c:\\Users\\mohse\\anaconda3\\Lib\\site-packages\\jupyter_server-2.5.0.dist-info due to invalid metadata entry 'name'\n",
      "WARNING: Skipping c:\\Users\\mohse\\anaconda3\\Lib\\site-packages\\nbconvert-6.5.4.dist-info due to invalid metadata entry 'name'\n",
      "WARNING: Skipping c:\\Users\\mohse\\anaconda3\\Lib\\site-packages\\notebook-6.5.4.dist-info due to invalid metadata entry 'name'\n",
      "WARNING: Skipping c:\\Users\\mohse\\anaconda3\\Lib\\site-packages\\panel-1.1.0.dist-info due to invalid metadata entry 'name'\n",
      "WARNING: Skipping c:\\Users\\mohse\\anaconda3\\Lib\\site-packages\\jupyterlab-3.6.3.dist-info due to invalid metadata entry 'name'\n",
      "WARNING: Skipping c:\\Users\\mohse\\anaconda3\\Lib\\site-packages\\jupyterlab_server-2.22.0.dist-info due to invalid metadata entry 'name'\n",
      "WARNING: Skipping c:\\Users\\mohse\\anaconda3\\Lib\\site-packages\\jupyter_server-2.5.0.dist-info due to invalid metadata entry 'name'\n",
      "WARNING: Skipping c:\\Users\\mohse\\anaconda3\\Lib\\site-packages\\nbconvert-6.5.4.dist-info due to invalid metadata entry 'name'\n",
      "WARNING: Skipping c:\\Users\\mohse\\anaconda3\\Lib\\site-packages\\notebook-6.5.4.dist-info due to invalid metadata entry 'name'\n",
      "WARNING: Skipping c:\\Users\\mohse\\anaconda3\\Lib\\site-packages\\panel-1.1.0.dist-info due to invalid metadata entry 'name'\n",
      "WARNING: Skipping c:\\Users\\mohse\\anaconda3\\Lib\\site-packages\\jupyterlab-3.6.3.dist-info due to invalid metadata entry 'name'\n",
      "WARNING: Skipping c:\\Users\\mohse\\anaconda3\\Lib\\site-packages\\jupyterlab_server-2.22.0.dist-info due to invalid metadata entry 'name'\n",
      "WARNING: Skipping c:\\Users\\mohse\\anaconda3\\Lib\\site-packages\\jupyter_server-2.5.0.dist-info due to invalid metadata entry 'name'\n",
      "WARNING: Skipping c:\\Users\\mohse\\anaconda3\\Lib\\site-packages\\nbconvert-6.5.4.dist-info due to invalid metadata entry 'name'\n",
      "WARNING: Skipping c:\\Users\\mohse\\anaconda3\\Lib\\site-packages\\notebook-6.5.4.dist-info due to invalid metadata entry 'name'\n",
      "WARNING: Skipping c:\\Users\\mohse\\anaconda3\\Lib\\site-packages\\panel-1.1.0.dist-info due to invalid metadata entry 'name'\n",
      "WARNING: Skipping c:\\Users\\mohse\\anaconda3\\Lib\\site-packages\\jupyterlab-3.6.3.dist-info due to invalid metadata entry 'name'\n",
      "WARNING: Skipping c:\\Users\\mohse\\anaconda3\\Lib\\site-packages\\jupyterlab_server-2.22.0.dist-info due to invalid metadata entry 'name'\n",
      "WARNING: Skipping c:\\Users\\mohse\\anaconda3\\Lib\\site-packages\\jupyter_server-2.5.0.dist-info due to invalid metadata entry 'name'\n",
      "WARNING: Skipping c:\\Users\\mohse\\anaconda3\\Lib\\site-packages\\nbconvert-6.5.4.dist-info due to invalid metadata entry 'name'\n",
      "WARNING: Skipping c:\\Users\\mohse\\anaconda3\\Lib\\site-packages\\notebook-6.5.4.dist-info due to invalid metadata entry 'name'\n",
      "WARNING: Skipping c:\\Users\\mohse\\anaconda3\\Lib\\site-packages\\panel-1.1.0.dist-info due to invalid metadata entry 'name'\n"
     ]
    }
   ],
   "source": [
    "pip install pandas pyarrow fastavro"
   ]
  },
  {
   "cell_type": "code",
   "execution_count": null,
   "metadata": {},
   "outputs": [
    {
     "name": "stdout",
     "output_type": "stream",
     "text": [
      "✅ Converted assist_dim.csv to D:\\a trainning iti\\hadoop\\project\\new_data\\parquet\\assist_dim.parquet\n",
      "✅ Converted assist_dim.csv to D:\\a trainning iti\\hadoop\\project\\new_data\\avro\\assist_dim.avro\n",
      "✅ Converted card_dim.csv to D:\\a trainning iti\\hadoop\\project\\new_data\\parquet\\card_dim.parquet\n",
      "✅ Converted card_dim.csv to D:\\a trainning iti\\hadoop\\project\\new_data\\avro\\card_dim.avro\n",
      "✅ Converted df_game_event_output.csv to D:\\a trainning iti\\hadoop\\project\\new_data\\parquet\\df_game_event_output.parquet\n",
      "✅ Converted df_game_event_output.csv to D:\\a trainning iti\\hadoop\\project\\new_data\\avro\\df_game_event_output.avro\n",
      "✅ Converted goal_dim.csv to D:\\a trainning iti\\hadoop\\project\\new_data\\parquet\\goal_dim.parquet\n",
      "✅ Converted goal_dim.csv to D:\\a trainning iti\\hadoop\\project\\new_data\\avro\\goal_dim.avro\n",
      "✅ Converted new_appearnace.csv to D:\\a trainning iti\\hadoop\\project\\new_data\\parquet\\new_appearnace.parquet\n",
      "✅ Converted new_appearnace.csv to D:\\a trainning iti\\hadoop\\project\\new_data\\avro\\new_appearnace.avro\n",
      "✅ Converted new_clubs.csv to D:\\a trainning iti\\hadoop\\project\\new_data\\parquet\\new_clubs.parquet\n",
      "✅ Converted new_clubs.csv to D:\\a trainning iti\\hadoop\\project\\new_data\\avro\\new_clubs.avro\n",
      "✅ Converted new_club_games.csv to D:\\a trainning iti\\hadoop\\project\\new_data\\parquet\\new_club_games.parquet\n",
      "✅ Converted new_club_games.csv to D:\\a trainning iti\\hadoop\\project\\new_data\\avro\\new_club_games.avro\n",
      "✅ Converted new_competations.csv to D:\\a trainning iti\\hadoop\\project\\new_data\\parquet\\new_competations.parquet\n",
      "✅ Converted new_competations.csv to D:\\a trainning iti\\hadoop\\project\\new_data\\avro\\new_competations.avro\n",
      "✅ Converted new_games.csv to D:\\a trainning iti\\hadoop\\project\\new_data\\parquet\\new_games.parquet\n",
      "✅ Converted new_games.csv to D:\\a trainning iti\\hadoop\\project\\new_data\\avro\\new_games.avro\n",
      "✅ Converted new_game_lineups.csv to D:\\a trainning iti\\hadoop\\project\\new_data\\parquet\\new_game_lineups.parquet\n",
      "✅ Converted new_game_lineups.csv to D:\\a trainning iti\\hadoop\\project\\new_data\\avro\\new_game_lineups.avro\n",
      "✅ Converted new_players.csv to D:\\a trainning iti\\hadoop\\project\\new_data\\parquet\\new_players.parquet\n",
      "✅ Converted new_players.csv to D:\\a trainning iti\\hadoop\\project\\new_data\\avro\\new_players.avro\n",
      "✅ Converted new_transfer.csv to D:\\a trainning iti\\hadoop\\project\\new_data\\parquet\\new_transfer.parquet\n",
      "✅ Converted new_transfer.csv to D:\\a trainning iti\\hadoop\\project\\new_data\\avro\\new_transfer.avro\n",
      "✅ Converted shootout_dim.csv to D:\\a trainning iti\\hadoop\\project\\new_data\\parquet\\shootout_dim.parquet\n",
      "✅ Converted shootout_dim.csv to D:\\a trainning iti\\hadoop\\project\\new_data\\avro\\shootout_dim.avro\n",
      "✅ Converted sub_dim.csv to D:\\a trainning iti\\hadoop\\project\\new_data\\parquet\\sub_dim.parquet\n",
      "✅ Converted sub_dim.csv to D:\\a trainning iti\\hadoop\\project\\new_data\\avro\\sub_dim.avro\n"
     ]
    }
   ],
   "source": [
    "import os\n",
    "import pandas as pd\n",
    "import pyarrow as pa\n",
    "import pyarrow.parquet as pq\n",
    "from fastavro import writer\n",
    "\n",
    "#  path of each folder\n",
    "csv_folder = r\"D:\\a trainning iti\\hadoop\\project\\new_data\\New folder\"\n",
    "parquet_folder = r\"D:\\a trainning iti\\hadoop\\project\\new_data\\parquet\"\n",
    "avro_folder = r\"D:\\a trainning iti\\hadoop\\project\\new_data\\avro\"\n",
    "\n",
    "# التأكد من أن الفولدرات موجودة، ولو مش موجودة، يتم إنشاؤها\n",
    "os.makedirs(parquet_folder, exist_ok=True)\n",
    "os.makedirs(avro_folder, exist_ok=True)\n",
    "\n",
    "# read all csv\n",
    "csv_files = [f for f in os.listdir(csv_folder) if f.endswith(\".csv\")]\n",
    "\n",
    "# Loop over each CSV file and convert\n",
    "for csv_file in csv_files:\n",
    "    csv_path = os.path.join(csv_folder, csv_file)\n",
    "    \n",
    "   \n",
    "    df = pd.read_csv(csv_path)\n",
    "    \n",
    "    # convert all columns to string\n",
    "    df = df.astype(str)\n",
    "\n",
    "    # convert to parquet\n",
    "    parquet_file = os.path.join(parquet_folder, csv_file.replace(\".csv\", \".parquet\"))\n",
    "    table = pa.Table.from_pandas(df)\n",
    "    pq.write_table(table, parquet_file)\n",
    "    print(f\"✅ Converted {csv_file} to {parquet_file}\")\n",
    "\n",
    "    # convert to Avro\n",
    "    avro_file = os.path.join(avro_folder, csv_file.replace(\".csv\", \".avro\"))\n",
    "    schema = {\n",
    "        \"type\": \"record\",\n",
    "        \"name\": \"Record\",\n",
    "        \"fields\": [{\"name\": field, \"type\": \"string\"} for field in df.columns]\n",
    "    }\n",
    "    with open(avro_file, \"wb\") as out_file:\n",
    "        writer(out_file, schema, df.to_dict(orient=\"records\"))\n",
    "    print(f\"✅ Converted {csv_file} to {avro_file}\")\n"
   ]
  },
  {
   "cell_type": "code",
   "execution_count": null,
   "metadata": {},
   "outputs": [],
   "source": []
  }
 ],
 "metadata": {
  "kernelspec": {
   "display_name": "base",
   "language": "python",
   "name": "python3"
  },
  "language_info": {
   "codemirror_mode": {
    "name": "ipython",
    "version": 3
   },
   "file_extension": ".py",
   "mimetype": "text/x-python",
   "name": "python",
   "nbconvert_exporter": "python",
   "pygments_lexer": "ipython3",
   "version": "3.11.11"
  }
 },
 "nbformat": 4,
 "nbformat_minor": 2
}
